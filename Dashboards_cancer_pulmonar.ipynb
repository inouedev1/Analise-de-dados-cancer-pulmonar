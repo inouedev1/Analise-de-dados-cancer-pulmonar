{
  "cells": [
    {
      "cell_type": "markdown",
      "metadata": {
        "id": "view-in-github",
        "colab_type": "text"
      },
      "source": [
        "<a href=\"https://colab.research.google.com/github/inouedev1/Analise-de-dados-cancer-pulmonar/blob/main/Dashboards_cancer_pulmonar.ipynb\" target=\"_parent\"><img src=\"https://colab.research.google.com/assets/colab-badge.svg\" alt=\"Open In Colab\"/></a>"
      ]
    },
    {
      "cell_type": "code",
      "execution_count": null,
      "metadata": {
        "id": "7ngfsrEZzkl5"
      },
      "outputs": [],
      "source": [
        "!pip install -q streamlit"
      ]
    },
    {
      "cell_type": "code",
      "execution_count": null,
      "metadata": {
        "id": "E0-2vTcZztUV"
      },
      "outputs": [],
      "source": [
        "!npm install localtunnel"
      ]
    },
    {
      "cell_type": "code",
      "execution_count": null,
      "metadata": {
        "id": "_1QUM8Tkz1EF"
      },
      "outputs": [],
      "source": [
        "import urllib\n",
        "print(\"SENHA/Enpoint IP para o túnel local:\",urllib.request.urlopen('https://ipv4.icanhazip.com').read().decode('utf8').strip(\"\\n\"))"
      ]
    },
    {
      "cell_type": "code",
      "execution_count": null,
      "metadata": {
        "colab": {
          "base_uri": "https://localhost:8080/"
        },
        "id": "spl_Ovcvz_G0",
        "outputId": "91c9e4f1-c1e2-44c5-fb42-09312a5b6b49"
      },
      "outputs": [
        {
          "name": "stdout",
          "output_type": "stream",
          "text": [
            "Writing app.py\n"
          ]
        }
      ],
      "source": [
        "%%writefile app.py\n",
        "import streamlit as st\n",
        "from dashboardstrabalho5 import *\n",
        "st.set_page_config(layout='wide')\n",
        "st.title(\"Dashboard da Analise de Cancer pulmonar \")\n",
        "aba1, aba2, aba3 = st.tabs(['Dataset', 'Dashboards de préanalise', 'Dashboards pos analise'])\n",
        "with aba2:\n",
        "  coluna1, coluna2 = st.columns(2)\n",
        "  with coluna1:\n",
        "      st.plotly_chart(grafico_idade_casos, use_container_width=True)\n",
        "      st.plotly_chart(grafico_genero_casos, use_container_width=True)\n",
        "      st.plotly_chart(grafico_exposicao_ar, use_container_width=True)\n",
        "      st.plotly_chart(grafico_alergia_casos, use_container_width=True)\n",
        "  with coluna2:\n",
        "      st.plotly_chart(grafico_alcool_casos, use_container_width=True)\n",
        "      st.plotly_chart(grafico_fumantesa_casos, use_container_width=True)\n",
        "      st.plotly_chart(grafico_fumantesp_casos, use_container_width=True)\n",
        "with aba3:\n",
        "  coluna1, coluna2 = st.columns(2)\n",
        "  with coluna1:\n",
        "      st.plotly_chart(grafico_analise1_compar, use_container_width=True)\n",
        "      st.plotly_chart(grafico_analise2_compar, use_container_width=True)\n",
        "  with coluna2:\n",
        "      st.plotly_chart(fig_poluicao_alergia, use_container_width=True)\n",
        "st.sidebar.title('Filtro')\n",
        "todas_colunas = df.columns.tolist()\n",
        "colunas_dataset = st.sidebar.multiselect('Selecione as colunas:', todas_colunas, default=todas_colunas)\n",
        "df_filtro = df[colunas_dataset]\n",
        "st.write(df_filtro)"
      ]
    },
    {
      "cell_type": "code",
      "execution_count": null,
      "metadata": {
        "colab": {
          "background_save": true,
          "base_uri": "https://localhost:8080/"
        },
        "id": "bnMymJCU0Yjt",
        "outputId": "85367941-7f47-4ac3-9613-a1ace7b82c80"
      },
      "outputs": [
        {
          "name": "stdout",
          "output_type": "stream",
          "text": [
            "\u001b[K\u001b[?25hnpx: installed 22 in 1.878s\n",
            "your url is: https://shy-garlics-start.loca.lt\n"
          ]
        }
      ],
      "source": [
        "!streamlit run app.py &>/content/logs.txt & npx localtunnel --port 8501"
      ]
    }
  ],
  "metadata": {
    "colab": {
      "provenance": [],
      "authorship_tag": "ABX9TyNXIByKGls712Rj0sFKLCef",
      "include_colab_link": true
    },
    "kernelspec": {
      "display_name": "Python 3",
      "name": "python3"
    },
    "language_info": {
      "name": "python"
    }
  },
  "nbformat": 4,
  "nbformat_minor": 0
}